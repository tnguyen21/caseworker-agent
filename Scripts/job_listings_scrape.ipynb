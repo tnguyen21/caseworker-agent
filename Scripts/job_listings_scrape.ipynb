{
 "cells": [
  {
   "cell_type": "code",
   "execution_count": 5,
   "metadata": {},
   "outputs": [],
   "source": [
    "import pandas as pd"
   ]
  },
  {
   "cell_type": "code",
   "execution_count": null,
   "metadata": {},
   "outputs": [],
   "source": [
    "data = pd.read_csv('C:/Users/drewt/Downloads/postings.csv') # https://www.kaggle.com/datasets/arshkon/linkedin-job-postings?resource=download"
   ]
  },
  {
   "cell_type": "code",
   "execution_count": 16,
   "metadata": {},
   "outputs": [],
   "source": [
    "d19104 = pd.read_csv('C:/Users/drewt/Desktop/Codefest25/caseworker-agent/data/5miFrom19104.csv')\n",
    "d19136 = pd.read_csv('C:/Users/drewt/Desktop/Codefest25/caseworker-agent/data/5miFrom19136.csv')"
   ]
  },
  {
   "cell_type": "code",
   "execution_count": 20,
   "metadata": {},
   "outputs": [
    {
     "name": "stderr",
     "output_type": "stream",
     "text": [
      "C:\\Users\\drewt\\AppData\\Local\\Temp\\ipykernel_12824\\3182211670.py:1: FutureWarning: The frame.append method is deprecated and will be removed from pandas in a future version. Use pandas.concat instead.\n",
      "  all_zips = d19104.append(d19136)\n"
     ]
    }
   ],
   "source": [
    "all_zips = d19104.append(d19136)"
   ]
  },
  {
   "cell_type": "code",
   "execution_count": 21,
   "metadata": {},
   "outputs": [],
   "source": [
    "data = data[data['zip_code'].isin(all_zips['Zip Code'])]"
   ]
  },
  {
   "cell_type": "code",
   "execution_count": 23,
   "metadata": {},
   "outputs": [],
   "source": [
    "data = data[['company_name', 'title', 'description', 'location', 'work_type', 'formatted_experience_level', 'job_posting_url']]"
   ]
  },
  {
   "cell_type": "code",
   "execution_count": null,
   "metadata": {},
   "outputs": [],
   "source": [
    "data.to_csv('C:/Users/drewt/Desktop/Codefest25/caseworker-agent/data/linkedin_listings_under_5_miles.csv', index=False)\n",
    "#test = pd.read_csv('C:/Users/drewt/Desktop/Codefest25/caseworker-agent/data/linkedin_listings_under_5_miles.csv')"
   ]
  }
 ],
 "metadata": {
  "kernelspec": {
   "display_name": "Python 3",
   "language": "python",
   "name": "python3"
  },
  "language_info": {
   "codemirror_mode": {
    "name": "ipython",
    "version": 3
   },
   "file_extension": ".py",
   "mimetype": "text/x-python",
   "name": "python",
   "nbconvert_exporter": "python",
   "pygments_lexer": "ipython3",
   "version": "3.10.6"
  }
 },
 "nbformat": 4,
 "nbformat_minor": 2
}
